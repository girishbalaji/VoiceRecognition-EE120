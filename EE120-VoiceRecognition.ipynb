{
 "cells": [
  {
   "cell_type": "code",
   "execution_count": 6,
   "metadata": {
    "collapsed": true
   },
   "outputs": [],
   "source": [
    "import numpy as np\n",
    "import matplotlib.pyplot as plt\n",
    "import scipy.io.wavfile as wavfile\n",
    "import scipy.signal as signal\n",
    "import scipy.fftpack as fftpack"
   ]
  },
  {
   "cell_type": "code",
   "execution_count": 7,
   "metadata": {
    "collapsed": true
   },
   "outputs": [],
   "source": [
    "def buffer(x, n, p=0, opt=None):\n",
    "    '''Mimic MATLAB routine to generate buffer array\n",
    "\n",
    "    MATLAB docs here: https://se.mathworks.com/help/signal/ref/buffer.html\n",
    "\n",
    "    Args\n",
    "    ----\n",
    "    x:   signal array\n",
    "    n:   number of data segments\n",
    "    p:   number of values to overlap\n",
    "    opt: initial condition options. default sets the first `p` values\n",
    "         to zero, while 'nodelay' begins filling the buffer immediately.\n",
    "    '''\n",
    "    import numpy\n",
    "\n",
    "    if p >= n:\n",
    "        raise ValueError('p ({}) must be less than n ({}).'.format(p,n))\n",
    "\n",
    "    # Calculate number of columns of buffer array\n",
    "    cols = int(numpy.ceil(len(x)/(n-p)))\n",
    "\n",
    "    # Check for opt parameters\n",
    "    if opt == 'nodelay':\n",
    "        # Need extra column to handle additional values left\n",
    "        cols += 1\n",
    "    elif opt != None:\n",
    "        raise SystemError('Only `None` (default initial condition) and '\n",
    "                          '`nodelay` (skip initial condition) have been '\n",
    "                          'implemented')\n",
    "\n",
    "    # Create empty buffer array\n",
    "    b = numpy.zeros((n, cols))\n",
    "\n",
    "    # Fill buffer by column handling for initial condition and overlap\n",
    "    j = 0\n",
    "    for i in range(cols):\n",
    "        # Set first column to n values from x, move to next iteration\n",
    "        if i == 0 and opt == 'nodelay':\n",
    "            b[0:n,i] = x[0:n]\n",
    "            continue\n",
    "        # set first values of row to last p values\n",
    "        elif i != 0 and p != 0:\n",
    "            b[:p, i] = b[-p:, i-1]\n",
    "        # If initial condition, set p elements in buffer array to zero\n",
    "        else:\n",
    "            b[:p, i] = 0\n",
    "\n",
    "        # Get stop index positions for x\n",
    "        k = j + n - p\n",
    "\n",
    "        # Get stop index position for b, matching number sliced from x\n",
    "        n_end = p+len(x[j:k])\n",
    "\n",
    "        # Assign values to buffer array from x\n",
    "        b[p:n_end,i] = x[j:k]\n",
    "\n",
    "        # Update start index location for next iteration of x\n",
    "        j = k\n",
    "\n",
    "    return b"
   ]
  },
  {
   "cell_type": "code",
   "execution_count": 59,
   "metadata": {
    "collapsed": false
   },
   "outputs": [],
   "source": [
    "def melfb(p, n, fs):\n",
    "    # MELFB         Determine matrix for a mel-spaced filterbank\n",
    "    #\n",
    "    # Inputs:       p   number of filters in filterbank\n",
    "    #               n   length of fft\n",
    "    #               fs  sample rate in Hz\n",
    "    #\n",
    "    # Outputs:      x   a (sparse) matrix containing the filterbank amplitudes\n",
    "    #                   size(x) = [p, 1+floor(n/2)]\n",
    "    #\n",
    "    # Usage:        For example, to compute the mel-scale spectrum of a\n",
    "    #               colum-vector signal s, with length n and sample rate fs:\n",
    "    #\n",
    "    #               f = fft(s);\n",
    "    #               m = melfb(p, n, fs);\n",
    "    #               n2 = 1 + floor(n/2);\n",
    "    #               z = m * abs(f(1:n2)).^2;\n",
    "    #\n",
    "    #               z would contain p samples of the desired mel-scale spectrum\n",
    "    #\n",
    "    #               To plot filterbanks e.g.:\n",
    "    #\n",
    "    #               plot(linspace(0, (12500/2), 129), melfb(20, 256, 12500)'),\n",
    "    #               title('Mel-spaced filterbank'), xlabel('Frequency (Hz)');\n",
    "\n",
    "    f0 = 700 / fs\n",
    "    fn2 = np.floor(n / 2)\n",
    "\n",
    "    lr = np.log(1 + 0.5 / f0) / (p + 1)\n",
    "\n",
    "    # convert to fft bin numbers with 0 for DC term\n",
    "    bl = n * (f0 * (np.exp(np.mcat([0, 1, p, p + 1]) * lr) - 1))\n",
    "\n",
    "    b1 = np.floor(bl(1)) + 1\n",
    "    b2 = np.ceil(bl(2))\n",
    "    b3 = np.floor(bl(3))\n",
    "    b4 = min(fn2, ceil(bl(4))) - 1\n",
    "\n",
    "    pf = np.log(1 + (mslice[b1:b4]) / n / f0) / lr\n",
    "    fp = np.floor(pf)\n",
    "    pm = pf - fp\n",
    "\n",
    "    r = mcat([fp(mslice[b2:b4]), 1 + fp(mslice[1:b3])])\n",
    "    c = mcat([mslice[b2:b4], mslice[1:b3]]) + 1\n",
    "    v = 2 * mcat([1 - pm(mslice[b2:b4]), pm(mslice[1:b3])])\n",
    "\n",
    "    return sparse(r, c, v, p, 1 + fn2)"
   ]
  },
  {
   "cell_type": "code",
   "execution_count": 69,
   "metadata": {
    "collapsed": false
   },
   "outputs": [],
   "source": [
    "def mfcc(f, fs):\n",
    "    file_data = wavfile.read(f)\n",
    "    \n",
    "    buffered = buffer(file_data[1], 256, 256//3)\n",
    "    \n",
    "    windowed = signal.hamming(fs)\n",
    "    \n",
    "    fourier = np.fft.fft(windowed)\n",
    "    \n",
    "#     ms = melfb(20, fourier.size, fs)\n",
    "    \n",
    "    c = fftpack.dct(np.log(ms))\n",
    "    \n",
    "    #is this right?\n",
    "    c[1,:] = []\n",
    "    return c"
   ]
  },
  {
   "cell_type": "code",
   "execution_count": 70,
   "metadata": {
    "collapsed": false,
    "scrolled": true
   },
   "outputs": [
    {
     "ename": "NameError",
     "evalue": "name 'ms' is not defined",
     "output_type": "error",
     "traceback": [
      "\u001b[0;31m---------------------------------------------------------------------------\u001b[0m",
      "\u001b[0;31mNameError\u001b[0m                                 Traceback (most recent call last)",
      "\u001b[0;32m<ipython-input-70-0896a51ce0c3>\u001b[0m in \u001b[0;36m<module>\u001b[0;34m()\u001b[0m\n\u001b[0;32m----> 1\u001b[0;31m \u001b[0mmfcc\u001b[0m\u001b[1;33m(\u001b[0m\u001b[1;34m'test/s1.wav'\u001b[0m\u001b[1;33m,\u001b[0m \u001b[1;36m256\u001b[0m\u001b[1;33m)\u001b[0m\u001b[1;33m\u001b[0m\u001b[0m\n\u001b[0m",
      "\u001b[0;32m<ipython-input-69-4f6bbaefe3e5>\u001b[0m in \u001b[0;36mmfcc\u001b[0;34m(f, fs)\u001b[0m\n\u001b[1;32m     10\u001b[0m \u001b[1;31m#     ms = melfb(20, fourier.size, fs)\u001b[0m\u001b[1;33m\u001b[0m\u001b[1;33m\u001b[0m\u001b[0m\n\u001b[1;32m     11\u001b[0m \u001b[1;33m\u001b[0m\u001b[0m\n\u001b[0;32m---> 12\u001b[0;31m     \u001b[0mc\u001b[0m \u001b[1;33m=\u001b[0m \u001b[0mfftpack\u001b[0m\u001b[1;33m.\u001b[0m\u001b[0mdct\u001b[0m\u001b[1;33m(\u001b[0m\u001b[0mnp\u001b[0m\u001b[1;33m.\u001b[0m\u001b[0mlog\u001b[0m\u001b[1;33m(\u001b[0m\u001b[0mms\u001b[0m\u001b[1;33m)\u001b[0m\u001b[1;33m)\u001b[0m\u001b[1;33m\u001b[0m\u001b[0m\n\u001b[0m\u001b[1;32m     13\u001b[0m \u001b[1;33m\u001b[0m\u001b[0m\n\u001b[1;32m     14\u001b[0m     \u001b[1;31m#is this right?\u001b[0m\u001b[1;33m\u001b[0m\u001b[1;33m\u001b[0m\u001b[0m\n",
      "\u001b[0;31mNameError\u001b[0m: name 'ms' is not defined"
     ]
    }
   ],
   "source": [
    "mfcc('test/s1.wav', 256)"
   ]
  },
  {
   "cell_type": "code",
   "execution_count": 68,
   "metadata": {
    "collapsed": false
   },
   "outputs": [
    {
     "name": "stdout",
     "output_type": "stream",
     "text": [
      "Help on function hamming in module scipy.signal.windows:\n",
      "\n",
      "hamming(M, sym=True)\n",
      "    Return a Hamming window.\n",
      "    \n",
      "    The Hamming window is a taper formed by using a raised cosine with\n",
      "    non-zero endpoints, optimized to minimize the nearest side lobe.\n",
      "    \n",
      "    Parameters\n",
      "    ----------\n",
      "    M : int\n",
      "        Number of points in the output window. If zero or less, an empty\n",
      "        array is returned.\n",
      "    sym : bool, optional\n",
      "        When True (default), generates a symmetric window, for use in filter\n",
      "        design.\n",
      "        When False, generates a periodic window, for use in spectral analysis.\n",
      "    \n",
      "    Returns\n",
      "    -------\n",
      "    w : ndarray\n",
      "        The window, with the maximum value normalized to 1 (though the value 1\n",
      "        does not appear if `M` is even and `sym` is True).\n",
      "    \n",
      "    Notes\n",
      "    -----\n",
      "    The Hamming window is defined as\n",
      "    \n",
      "    .. math::  w(n) = 0.54 - 0.46 \\cos\\left(\\frac{2\\pi{n}}{M-1}\\right)\n",
      "               \\qquad 0 \\leq n \\leq M-1\n",
      "    \n",
      "    The Hamming was named for R. W. Hamming, an associate of J. W. Tukey and\n",
      "    is described in Blackman and Tukey. It was recommended for smoothing the\n",
      "    truncated autocovariance function in the time domain.\n",
      "    Most references to the Hamming window come from the signal processing\n",
      "    literature, where it is used as one of many windowing functions for\n",
      "    smoothing values.  It is also known as an apodization (which means\n",
      "    \"removing the foot\", i.e. smoothing discontinuities at the beginning\n",
      "    and end of the sampled signal) or tapering function.\n",
      "    \n",
      "    References\n",
      "    ----------\n",
      "    .. [1] Blackman, R.B. and Tukey, J.W., (1958) The measurement of power\n",
      "           spectra, Dover Publications, New York.\n",
      "    .. [2] E.R. Kanasewich, \"Time Sequence Analysis in Geophysics\", The\n",
      "           University of Alberta Press, 1975, pp. 109-110.\n",
      "    .. [3] Wikipedia, \"Window function\",\n",
      "           http://en.wikipedia.org/wiki/Window_function\n",
      "    .. [4] W.H. Press,  B.P. Flannery, S.A. Teukolsky, and W.T. Vetterling,\n",
      "           \"Numerical Recipes\", Cambridge University Press, 1986, page 425.\n",
      "    \n",
      "    Examples\n",
      "    --------\n",
      "    Plot the window and its frequency response:\n",
      "    \n",
      "    >>> from scipy import signal\n",
      "    >>> from scipy.fftpack import fft, fftshift\n",
      "    >>> import matplotlib.pyplot as plt\n",
      "    \n",
      "    >>> window = signal.hamming(51)\n",
      "    >>> plt.plot(window)\n",
      "    >>> plt.title(\"Hamming window\")\n",
      "    >>> plt.ylabel(\"Amplitude\")\n",
      "    >>> plt.xlabel(\"Sample\")\n",
      "    \n",
      "    >>> plt.figure()\n",
      "    >>> A = fft(window, 2048) / (len(window)/2.0)\n",
      "    >>> freq = np.linspace(-0.5, 0.5, len(A))\n",
      "    >>> response = 20 * np.log10(np.abs(fftshift(A / abs(A).max())))\n",
      "    >>> plt.plot(freq, response)\n",
      "    >>> plt.axis([-0.5, 0.5, -120, 0])\n",
      "    >>> plt.title(\"Frequency response of the Hamming window\")\n",
      "    >>> plt.ylabel(\"Normalized magnitude [dB]\")\n",
      "    >>> plt.xlabel(\"Normalized frequency [cycles per sample]\")\n",
      "\n"
     ]
    }
   ],
   "source": [
    "help (signal.hamming)"
   ]
  },
  {
   "cell_type": "code",
   "execution_count": null,
   "metadata": {
    "collapsed": true
   },
   "outputs": [],
   "source": []
  }
 ],
 "metadata": {
  "kernelspec": {
   "display_name": "Python 3",
   "language": "python",
   "name": "python3"
  },
  "language_info": {
   "codemirror_mode": {
    "name": "ipython",
    "version": 3
   },
   "file_extension": ".py",
   "mimetype": "text/x-python",
   "name": "python",
   "nbconvert_exporter": "python",
   "pygments_lexer": "ipython3",
   "version": "3.6.0"
  }
 },
 "nbformat": 4,
 "nbformat_minor": 2
}
