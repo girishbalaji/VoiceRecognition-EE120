{
 "cells": [
  {
   "cell_type": "code",
   "execution_count": 11,
   "metadata": {
    "collapsed": true
   },
   "outputs": [],
   "source": [
    "import numpy as np\n",
    "from scipy.fftpack import dct\n",
    "import matplotlib.pyplot as plt\n",
    "import scipy.io.wavfile as wav\n",
    "import math"
   ]
  },
  {
   "cell_type": "code",
   "execution_count": 89,
   "metadata": {
    "collapsed": false
   },
   "outputs": [],
   "source": [
    "def mfcc(file):\n",
    "    sample_rate, signal = wav.read(file)\n",
    "    signal = signal[0:int(10 * sample_rate)] # Keep 1st 5 secs of signal\n",
    "    numCoefficients = 13 # choose the size of mfcc array\n",
    "    frame_size = .025 #25ms frames\n",
    "    frame_separation = .015 #10ms overlap\n",
    "    \n",
    "    frame_len_dist = int(round(frame_size * sample_rate))\n",
    "    frame_sep_dist = int(round(frame_separation * sample_rate))\n",
    "    \n",
    "    framed_matrix = frame(signal, sample_rate, frame_len_dist, frame_sep_dist)\n",
    "    \n",
    "    framed_matrix = smooth(framed_matrix, frame_len_dist)\n",
    "    \n",
    "    power_matrix = getPeriodogram(framed_matrix, frame_len_dist)\n",
    "    #print(frame_len_dist)\n",
    "    #print(power_matrix.shape)\n",
    "    \n",
    "    \n",
    "    minHz = 0\n",
    "    maxHz = sample_rate / 2\n",
    "    mlfb = getMelFilterBank(minHz, maxHz, frame_len_dist, sample_rate)\n",
    "    #print(mlfb.shape)\n",
    "    \n",
    "    coefficients = getCoefficients(power_matrix, mlfb)\n",
    "    return coefficients"
   ]
  },
  {
   "cell_type": "code",
   "execution_count": 90,
   "metadata": {
    "collapsed": false
   },
   "outputs": [],
   "source": [
    "#FRAMING\n",
    "def frame(signal, sample_rate, frame_len_dist, frame_sep_dist):\n",
    "    frame_overlap_dist = frame_len_dist - frame_sep_dist\n",
    "    signal_length = len(signal)\n",
    "    num_frames = int(np.floor(signal_length / frame_sep_dist))\n",
    "    if num_frames * frame_sep_dist + frame_overlap_dist < signal_length:\n",
    "        num_frames += 1\n",
    "    corr_signal_length = (num_frames - 1) * frame_sep_dist + frame_len_dist\n",
    "    zero_padding_length = corr_signal_length - signal_length\n",
    "    zero_padding = np.zeros(zero_padding_length)\n",
    "    padded_signal = np.append(signal, zero_padding)\n",
    "    framed_matrix = np.zeros((num_frames, frame_len_dist))\n",
    "    for frame_num in range(num_frames):\n",
    "        for i in range(int(frame_len_dist)):\n",
    "            framed_matrix[frame_num][i] = padded_signal[frame_num * frame_sep_dist + i]\n",
    "    return framed_matrix"
   ]
  },
  {
   "cell_type": "code",
   "execution_count": 91,
   "metadata": {
    "collapsed": false
   },
   "outputs": [],
   "source": [
    "#WINDOWING y(n) = x(n) * w(n)\n",
    "def smooth(framed_matrix, frame_len_dist):\n",
    "    framed_matrix *= np.hamming(frame_len_dist)\n",
    "    return framed_matrix"
   ]
  },
  {
   "cell_type": "code",
   "execution_count": 92,
   "metadata": {
    "collapsed": false
   },
   "outputs": [],
   "source": [
    "#FFT Matrix i.e. periodogram\n",
    "def getPeriodogram(framed_matrix, frame_len_dist):\n",
    "    framed_matrix = np.absolute(np.fft.fft(framed_matrix))\n",
    "    framed_matrix = (1/frame_len_dist) * np.square(framed_matrix)\n",
    "    return framed_matrix\n"
   ]
  },
  {
   "cell_type": "code",
   "execution_count": 93,
   "metadata": {
    "collapsed": true
   },
   "outputs": [],
   "source": [
    "#Mel to frequency conversions\n",
    "def freqToMel(freq):\n",
    "    return 1127.01048 * np.log(1 + freq / 700.0)\n",
    "\n",
    "def melToFreq(mel):\n",
    "    return 700 * (np.exp(mel / 1127.01048 ) - 1)"
   ]
  },
  {
   "cell_type": "code",
   "execution_count": 94,
   "metadata": {
    "collapsed": false
   },
   "outputs": [],
   "source": [
    "#Generate Filter Bank\n",
    "#Algorithm to generate filter bank from \n",
    "def getMelFilterBank(minHz, maxHz, frame_len_dist, sample_rate, numFilters = 40):\n",
    "    minMel = freqToMel(minHz)\n",
    "    maxMel = freqToMel(maxHz)\n",
    "    \n",
    "    melAxis = np.linspace(minMel, maxMel, numFilters + 2)\n",
    "    hzAxis = melToFreq(melAxis)\n",
    "    roundedHzAxis = np.floor((frame_len_dist+1)*hzAxis/sample_rate)\n",
    "    #print(roundedHzA)\n",
    "    \n",
    "    melfb = np.zeros((numFilters, frame_len_dist))\n",
    "\n",
    "    for m in range(1, numFilters + 1):\n",
    "        #Iterate through every row of the filter bank to populate it: note most of them will be 0s\n",
    "        #m - row; k - column\n",
    "        left = int(roundedHzAxis[m - 1])   # left\n",
    "        middle = int(roundedHzAxis[m])             # center\n",
    "        right = int(roundedHzAxis[m + 1])    # right\n",
    "\n",
    "        for k in range(left, middle):\n",
    "            melfb[m - 1, k] = (k - roundedHzAxis[m - 1]) / (roundedHzAxis[m] - roundedHzAxis[m - 1])\n",
    "        for k in range(middle, right):\n",
    "            melfb[m - 1, k] = (roundedHzAxis[m + 1] - k) / (roundedHzAxis[m + 1] - roundedHzAxis[m])\n",
    "    return melfb\n"
   ]
  },
  {
   "cell_type": "code",
   "execution_count": 95,
   "metadata": {
    "collapsed": true
   },
   "outputs": [],
   "source": [
    "#Extract Coefficients after Taking DCT\n",
    "def getCoefficients(power_matrix, melfb, num_coefficients = 12 ):\n",
    "    filter_banks = np.dot(power_matrix, melfb.T)\n",
    "    #print(filter_banks.shape)\n",
    "    filter_banks = 20 * np.log10(filter_banks)  # dB\n",
    "    mfcc = dct(filter_banks, type=2, axis=1, norm='ortho')[:, 1 : (num_coefficients + 1)] # Keep 2-13\n",
    "    return mfcc"
   ]
  },
  {
   "cell_type": "code",
   "execution_count": 96,
   "metadata": {
    "collapsed": false
   },
   "outputs": [],
   "source": [
    "file = \"train/s1.wav\"\n",
    "coeffs = mfcc(file)\n",
    "#print(coeffs.shape)\n",
    "#print(coeffs)"
   ]
  },
  {
   "cell_type": "code",
   "execution_count": 97,
   "metadata": {
    "collapsed": true
   },
   "outputs": [],
   "source": [
    "from scipy.cluster.vq import vq, kmeans\n"
   ]
  },
  {
   "cell_type": "code",
   "execution_count": 98,
   "metadata": {
    "collapsed": false
   },
   "outputs": [],
   "source": [
    "def train(folder, k = 16, iter = 100, numfiles = 8):\n",
    "    codebooks = {}\n",
    "    for i in range(1,numfiles + 1):\n",
    "        file = str(folder) + \"/s\" + str(i) + \".wav\"\n",
    "        obs = mfcc(file)\n",
    "        codebook = kmeans(obs, k, iter, thresh=1e-8)\n",
    "        codebooks[i] = codebook[0]\n",
    "    return codebooks\n"
   ]
  },
  {
   "cell_type": "code",
   "execution_count": 99,
   "metadata": {
    "collapsed": true
   },
   "outputs": [],
   "source": [
    "def test(file, codebooks, numfiles = 9):\n",
    "    min_dist = float('inf')\n",
    "    best_match = 0\n",
    "    for i in range(1, numfiles + 1):\n",
    "        obs = mfcc(file)\n",
    "        codebook = codebooks[i]\n",
    "        #print(obs.shape)\n",
    "        obs = remove_rows_with_nan(obs)\n",
    "        #print(obs.shape)\n",
    "        #print(np.shape(codebook))\n",
    "        #print(np.shape(obs))\n",
    "        code, dist = vq(obs, codebook)\n",
    "        avg_dist = np.average(dist)\n",
    "        print(avg_dist)\n",
    "        if avg_dist < min_dist:\n",
    "            min_dist = avg_dist\n",
    "            best_match = i\n",
    "    return best_match\n",
    "        \n",
    "    "
   ]
  },
  {
   "cell_type": "code",
   "execution_count": 100,
   "metadata": {
    "collapsed": true
   },
   "outputs": [],
   "source": [
    "def remove_rows_with_nan(coeffs):\n",
    "    lines_removed = 0\n",
    "    to_delete = []\n",
    "    for i in range(len(coeffs)):\n",
    "        if True in np.isnan(coeffs[i]):\n",
    "            lines_removed += 1\n",
    "            to_delete.append(i)\n",
    "    coeffs = np.delete(coeffs, to_delete, 0)\n",
    "    return coeffs\n",
    "            \n",
    "            "
   ]
  },
  {
   "cell_type": "code",
   "execution_count": 111,
   "metadata": {
    "collapsed": true
   },
   "outputs": [],
   "source": [
    "#Speakers\n",
    "#1 - Afrikaans Woman 1: http://accent.gmu.edu/searchsaa.php?function=detail&speakerid=1\n",
    "#2 - Arabic Woman 2: http://accent.gmu.edu/searchsaa.php?function=detail&speakerid=23\n",
    "#3 - Dutch Man: http://accent.gmu.edu/searchsaa.php?function=detail&speakerid=1300\n",
    "#4 - Hindi Man: http://accent.gmu.edu/searchsaa.php?function=detail&speakerid=910\n",
    "#5 - Japanese Woman: http://accent.gmu.edu/searchsaa.php?function=detail&speakerid=223\n",
    "#6 - Spanish Man: http://accent.gmu.edu/searchsaa.php?function=detail&speakerid=323\n",
    "#7 - English Man: http://accent.gmu.edu/searchsaa.php?function=detail&speakerid=61\n",
    "#8 - Russian Woman: http://accent.gmu.edu/searchsaa.php?function=detail&speakerid=302\n",
    "\n",
    "#Test files are other speakers in the "
   ]
  },
  {
   "cell_type": "code",
   "execution_count": 114,
   "metadata": {
    "collapsed": false
   },
   "outputs": [
    {
     "name": "stdout",
     "output_type": "stream",
     "text": [
      "54.8837710493\n",
      "67.7547459078\n",
      "81.0025854322\n",
      "67.5292192605\n",
      "56.4085001536\n",
      "91.198137455\n",
      "97.3002960228\n",
      "49.6251995147\n"
     ]
    },
    {
     "data": {
      "text/plain": [
       "8"
      ]
     },
     "execution_count": 114,
     "metadata": {},
     "output_type": "execute_result"
    }
   ],
   "source": [
    "codebooks = train(\"accent-data/train\", numfiles = 8)\n",
    "#print(codebooks[1])\n",
    "test(\"accent-data/test/telugu1.wav\", codebooks, numfiles=8)"
   ]
  },
  {
   "cell_type": "code",
   "execution_count": null,
   "metadata": {
    "collapsed": true
   },
   "outputs": [],
   "source": [
    "#THE RETURNED NUMBER SHOULD MATCH THE TESTING WAV FILE NUMBER"
   ]
  },
  {
   "cell_type": "code",
   "execution_count": 116,
   "metadata": {
    "collapsed": false
   },
   "outputs": [],
   "source": [
    "#print(numFilters)\n",
    "#print(melfb.T.shape)\n",
    "#print(framed_matrix.shape)\n",
    "#print(mfcc.shape)\n",
    "#print(np.avg([1,3,4]))"
   ]
  },
  {
   "cell_type": "code",
   "execution_count": null,
   "metadata": {
    "collapsed": true
   },
   "outputs": [],
   "source": [
    "#FINISHED WITH SIGNAL PROCESSING"
   ]
  },
  {
   "cell_type": "code",
   "execution_count": 65,
   "metadata": {
    "collapsed": false
   },
   "outputs": [
    {
     "data": {
      "text/plain": [
       "array([ True, False], dtype=bool)"
      ]
     },
     "execution_count": 65,
     "metadata": {},
     "output_type": "execute_result"
    }
   ],
   "source": [
    "np.isnan([float('nan'), 1])"
   ]
  },
  {
   "cell_type": "code",
   "execution_count": 46,
   "metadata": {
    "collapsed": false
   },
   "outputs": [
    {
     "name": "stdout",
     "output_type": "stream",
     "text": [
      "[ 0.  2.  0.  6.]\n",
      "[ 0.  2.  0.  6.]\n",
      "[ 0.  0.]\n"
     ]
    }
   ],
   "source": [
    "a = np.zeros(4)\n",
    "a[1] = 2\n",
    "a[3] = 6\n",
    "print(a)\n",
    "b = np.delete(a,[1,3], 0)\n",
    "print(a)\n",
    "print(b)\n"
   ]
  },
  {
   "cell_type": "code",
   "execution_count": null,
   "metadata": {
    "collapsed": true
   },
   "outputs": [],
   "source": []
  },
  {
   "cell_type": "code",
   "execution_count": null,
   "metadata": {
    "collapsed": false
   },
   "outputs": [],
   "source": []
  },
  {
   "cell_type": "code",
   "execution_count": null,
   "metadata": {
    "collapsed": true
   },
   "outputs": [],
   "source": []
  },
  {
   "cell_type": "code",
   "execution_count": null,
   "metadata": {
    "collapsed": true
   },
   "outputs": [],
   "source": []
  }
 ],
 "metadata": {
  "kernelspec": {
   "display_name": "Python 3",
   "language": "python",
   "name": "python3"
  },
  "language_info": {
   "codemirror_mode": {
    "name": "ipython",
    "version": 3
   },
   "file_extension": ".py",
   "mimetype": "text/x-python",
   "name": "python",
   "nbconvert_exporter": "python",
   "pygments_lexer": "ipython3",
   "version": "3.5.2"
  }
 },
 "nbformat": 4,
 "nbformat_minor": 1
}
