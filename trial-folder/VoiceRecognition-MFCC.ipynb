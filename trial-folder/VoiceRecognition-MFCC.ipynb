{
 "cells": [
  {
   "cell_type": "code",
   "execution_count": 46,
   "metadata": {
    "collapsed": true
   },
   "outputs": [],
   "source": [
    "import numpy as np\n",
    "from scipy.fftpack import dct\n",
    "import matplotlib.pyplot as plt\n",
    "import scipy.io.wavfile as wav\n",
    "import math"
   ]
  },
  {
   "cell_type": "code",
   "execution_count": 47,
   "metadata": {
    "collapsed": false
   },
   "outputs": [],
   "source": [
    "def mfcc(file):\n",
    "    sample_rate, signal = wav.read(file)\n",
    "    signal = signal[0:int(5 * sample_rate)] # Keep 1st 5 secs of signal\n",
    "    numCoefficients = 13 # choose the size of mfcc array\n",
    "    frame_size = .025 #25ms frames\n",
    "    frame_separation = .015 #10ms overlap\n",
    "    \n",
    "    frame_len_dist = int(round(frame_size * sample_rate))\n",
    "    frame_sep_dist = int(round(frame_separation * sample_rate))\n",
    "    \n",
    "    framed_matrix = frame(signal, sample_rate, frame_len_dist, frame_sep_dist)\n",
    "    \n",
    "    framed_matrix = smooth(framed_matrix, frame_len_dist)\n",
    "    \n",
    "    power_matrix = getPeriodogram(framed_matrix, frame_len_dist)\n",
    "    #print(frame_len_dist)\n",
    "    #print(power_matrix.shape)\n",
    "    \n",
    "    \n",
    "    minHz = 0\n",
    "    maxHz = sample_rate / 2\n",
    "    mlfb = getMelFilterBank(minHz, maxHz, frame_len_dist, sample_rate)\n",
    "    #print(mlfb.shape)\n",
    "    \n",
    "    coefficients = getCoefficients(power_matrix, mlfb)\n",
    "    return coefficients"
   ]
  },
  {
   "cell_type": "code",
   "execution_count": 48,
   "metadata": {
    "collapsed": false
   },
   "outputs": [],
   "source": [
    "#FRAMING\n",
    "def frame(signal, sample_rate, frame_len_dist, frame_sep_dist):\n",
    "    frame_overlap_dist = frame_len_dist - frame_sep_dist\n",
    "    signal_length = len(signal)\n",
    "    num_frames = int(np.floor(signal_length / frame_sep_dist))\n",
    "    if num_frames * frame_sep_dist + frame_overlap_dist < signal_length:\n",
    "        num_frames += 1\n",
    "    corr_signal_length = (num_frames - 1) * frame_sep_dist + frame_len_dist\n",
    "    zero_padding_length = corr_signal_length - signal_length\n",
    "    zero_padding = np.zeros(zero_padding_length)\n",
    "    padded_signal = np.append(signal, zero_padding)\n",
    "    framed_matrix = np.zeros((num_frames, frame_len_dist))\n",
    "    for frame_num in range(num_frames):\n",
    "        for i in range(int(frame_len_dist)):\n",
    "            framed_matrix[frame_num][i] = padded_signal[frame_num * frame_sep_dist + i]\n",
    "    return framed_matrix"
   ]
  },
  {
   "cell_type": "code",
   "execution_count": 49,
   "metadata": {
    "collapsed": false
   },
   "outputs": [],
   "source": [
    "#WINDOWING y(n) = x(n) * w(n)\n",
    "def smooth(framed_matrix, frame_len_dist):\n",
    "    framed_matrix *= np.hamming(frame_len_dist)\n",
    "    return framed_matrix"
   ]
  },
  {
   "cell_type": "code",
   "execution_count": 50,
   "metadata": {
    "collapsed": false
   },
   "outputs": [],
   "source": [
    "#FFT Matrix i.e. periodogram\n",
    "def getPeriodogram(framed_matrix, frame_len_dist):\n",
    "    framed_matrix = np.absolute(np.fft.fft(framed_matrix))\n",
    "    framed_matrix = (1/frame_len_dist) * np.square(framed_matrix)\n",
    "    return framed_matrix\n"
   ]
  },
  {
   "cell_type": "code",
   "execution_count": 51,
   "metadata": {
    "collapsed": true
   },
   "outputs": [],
   "source": [
    "#Mel to frequency conversions\n",
    "def freqToMel(freq):\n",
    "    return 1127.01048 * np.log(1 + freq / 700.0)\n",
    "\n",
    "def melToFreq(mel):\n",
    "    return 700 * (np.exp(mel / 1127.01048 ) - 1)"
   ]
  },
  {
   "cell_type": "code",
   "execution_count": 52,
   "metadata": {
    "collapsed": false
   },
   "outputs": [],
   "source": [
    "#Generate Filter Bank\n",
    "def getMelFilterBank(minHz, maxHz, frame_len_dist, sample_rate, numFilters = 40):\n",
    "    minMel = freqToMel(minHz)\n",
    "    maxMel = freqToMel(maxHz)\n",
    "    \n",
    "    melAxis = np.linspace(minMel, maxMel, numFilters + 2)\n",
    "    hzAxis = melToFreq(melAxis)\n",
    "    roundedHzAxis = np.floor((frame_len_dist+1)*hzAxis/sample_rate)\n",
    "    #print(roundedHzA)\n",
    "    \n",
    "    melfb = np.zeros((numFilters, frame_len_dist))\n",
    "\n",
    "    for m in range(1, numFilters + 1):\n",
    "        #Iterate through every row of the filter bank to populate it: note most of them will be 0s\n",
    "        #m - row; k - column\n",
    "        left = int(roundedHzAxis[m - 1])   # left\n",
    "        middle = int(roundedHzAxis[m])             # center\n",
    "        right = int(roundedHzAxis[m + 1])    # right\n",
    "\n",
    "        for k in range(left, middle):\n",
    "            melfb[m - 1, k] = (k - roundedHzAxis[m - 1]) / (roundedHzAxis[m] - roundedHzAxis[m - 1])\n",
    "        for k in range(middle, right):\n",
    "            melfb[m - 1, k] = (roundedHzAxis[m + 1] - k) / (roundedHzAxis[m + 1] - roundedHzAxis[m])\n",
    "    return melfb\n"
   ]
  },
  {
   "cell_type": "code",
   "execution_count": 53,
   "metadata": {
    "collapsed": true
   },
   "outputs": [],
   "source": [
    "#Extract Coefficients after Taking DCT\n",
    "def getCoefficients(power_matrix, melfb, num_coefficients = 12 ):\n",
    "    filter_banks = np.dot(power_matrix, melfb.T)\n",
    "    #print(filter_banks.shape)\n",
    "    filter_banks = 20 * np.log10(filter_banks)  # dB\n",
    "    mfcc = dct(filter_banks, type=2, axis=1, norm='ortho')[:, 1 : (num_coefficients + 1)] # Keep 2-13\n",
    "    return mfcc"
   ]
  },
  {
   "cell_type": "code",
   "execution_count": 54,
   "metadata": {
    "collapsed": false
   },
   "outputs": [
    {
     "name": "stdout",
     "output_type": "stream",
     "text": [
      "(69, 12)\n",
      "[[ -6.85303117e+00   7.49932619e+00   3.61713872e+00  -1.18732663e+00\n",
      "   -7.33016329e+00   3.51671415e+00  -3.80246665e+00   3.61781083e+00\n",
      "   -3.80107866e+00   7.29182884e-01   1.05613968e+01   1.33430329e+01]\n",
      " [  5.32898969e+00   1.14970794e+01   1.30723900e+00  -3.20347659e+00\n",
      "   -3.98180926e+00   5.90541073e+00  -7.00002805e+00  -7.42650813e+00\n",
      "   -3.82496894e+00   3.04582708e+00   1.51539661e+01   1.91138865e+01]\n",
      " [  2.22770205e+00   1.70798043e+01   1.08009954e+01   3.21760479e+00\n",
      "   -2.60689266e+00   9.57389908e+00   1.69114814e+00  -2.17922795e+00\n",
      "   -3.53389144e+00  -1.08952040e+01  -1.48939998e+00   8.95039773e+00]\n",
      " [ -2.82649501e+00   1.82740379e+01  -7.03263576e+00  -7.25543935e+00\n",
      "   -2.73470589e+00   1.13380070e+01  -5.63923727e+00   1.86032394e+00\n",
      "   -6.36380803e-02   2.41663011e+00   1.34936339e+01   1.59962265e+01]\n",
      " [ -3.81189796e+00   1.44611586e+01   2.01747878e+00   3.23042028e+00\n",
      "   -7.37788018e-01   1.01664824e+01   1.72103530e+01   3.65275758e-01\n",
      "    1.10408817e+00  -3.10915551e+00  -7.10847266e+00   7.51594460e+00]\n",
      " [  5.31213791e+00   1.89147505e+01   5.71819385e+00   1.75260013e+00\n",
      "    3.84762689e+00   4.82573868e+00  -1.35128222e+01  -1.55940285e+01\n",
      "   -1.39917509e+01   5.69713591e-01   6.08026991e+00   1.58063137e+01]\n",
      " [ -9.57523094e-01   3.05658588e+01   1.19339611e+01   2.69337623e+00\n",
      "    8.98638934e+00   6.77755238e+00   4.61161659e+00  -4.15414617e-01\n",
      "   -2.28443706e+00   5.78277879e+00   5.99002969e+00   3.40044611e+00]\n",
      " [ -2.31548934e+01   2.26220230e+01   1.04004630e+01   3.70188342e+00\n",
      "   -1.10588608e+01  -4.31707067e+00  -2.46149970e-01   1.38177050e+00\n",
      "    3.20699901e+00   1.20036980e+01   1.42417298e+01  -9.47971630e-01]\n",
      " [ -1.88585827e+01   7.31663947e+00  -4.65607058e+00   1.01899445e+01\n",
      "    1.59779294e+00   4.75256363e+00  -3.74213012e+00   1.12039456e+01\n",
      "    1.32866857e+01   1.61264569e+01   1.38825763e+01   9.72678383e+00]\n",
      " [ -2.92972017e+01   1.07921454e+01  -8.89044442e+00  -1.77338487e+00\n",
      "   -7.34366119e+00  -1.21706729e+00  -7.40531771e+00  -1.08947977e+00\n",
      "   -8.41414478e+00  -3.33302971e+00   4.00356570e+00  -9.21150886e+00]\n",
      " [ -5.81920113e+00   1.69661022e+01   3.46253212e+00  -1.55609962e+00\n",
      "   -4.43628319e+00  -1.41881557e+01  -1.61401662e+01  -1.18614290e+01\n",
      "   -4.70598499e+00   1.16370715e+00   4.44718541e+00   5.06259483e+00]\n",
      " [  1.31909514e+01   3.00971157e+01   4.57488250e+00  -1.10386251e+00\n",
      "   -1.20942053e+01  -6.89704591e+00  -2.94301754e+00  -6.50590857e+00\n",
      "   -2.24550592e+00   6.20948965e+00   5.64919369e+00   5.50846759e+00]\n",
      " [ -1.73451754e+01   1.59316250e+01   1.15529357e+01   2.73704189e+00\n",
      "   -7.34071362e+00  -1.30753031e+01  -7.60021088e+00   2.31600679e+00\n",
      "    6.90950685e+00   7.26331232e+00   1.71287180e+01   1.03701332e+01]\n",
      " [ -1.14315044e+01   8.66982545e+00   1.22347691e+01   1.32301532e+00\n",
      "   -3.18775583e+00  -6.22735338e+00   1.26135643e+00   6.21176745e+00\n",
      "    1.53406142e+00   1.24928906e+00   7.85956865e+00   7.13199150e+00]\n",
      " [ -2.79709840e+01   3.85918109e+01  -2.21002583e+01  -4.14448251e+00\n",
      "   -2.06539639e+01   6.13400281e-01  -8.93840532e+00   1.03764836e+01\n",
      "    1.16142789e+01  -9.39676151e+00   8.49382430e+00   2.51317426e+00]\n",
      " [ -7.35890276e+01   1.91057837e+01  -3.44265192e+01   2.47399834e+01\n",
      "   -9.54636333e+00   3.78969496e+01  -1.32373583e+01   7.83319344e+00\n",
      "    6.85045196e+00   1.78653443e+01   1.19837966e+01   1.22199962e+01]\n",
      " [ -1.05739997e+02  -1.62673241e+00  -4.01491699e+01   3.05326354e+01\n",
      "   -1.23089192e+01   2.55412651e+01  -1.75955791e-02   1.82432263e+00\n",
      "    9.68352911e+00   9.91782999e+00   1.11663553e+01   1.80658164e+01]\n",
      " [ -1.19663707e+02  -3.18975189e+00  -2.84905890e+01   1.33049755e+01\n",
      "   -1.89999957e+01   2.01375189e+01  -7.90681526e+00   1.71987817e+01\n",
      "    5.81718173e+00   1.32801292e+01   5.88924268e+00   8.61318534e+00]\n",
      " [ -9.39190033e+01   3.81792922e+00  -1.98100839e+01   1.24188065e+01\n",
      "   -8.57005129e+00   8.96562285e+00  -8.97053588e+00  -9.82543292e-01\n",
      "    1.27076955e+01   5.77904404e+00   5.99755919e+00   6.83513747e+00]\n",
      " [ -1.00645153e+02  -5.05758604e+00  -3.78943478e+01  -1.19728415e+01\n",
      "   -2.26244629e+01   2.63855265e+01  -1.00127406e+01  -1.01768976e+01\n",
      "    1.22085865e+01   1.26888530e+01   9.53402913e+00   4.75184090e+00]\n",
      " [ -1.21313310e+02  -1.43708525e+01  -1.21501586e+01  -7.12378305e+00\n",
      "   -3.75624283e+01   1.37389911e+01  -7.07688841e+00   2.53811734e+00\n",
      "    1.25917144e+01   1.34875798e+01  -7.43305841e+00   6.49484671e+00]\n",
      " [  1.34826424e+01   8.09991294e+01   1.26616887e+01  -4.53161640e+01\n",
      "   -4.73766721e+01  -3.42789055e+01  -4.63038782e+01  -3.78233560e+01\n",
      "   -7.52879770e+00  -1.00219631e+01  -1.26363090e+01  -8.68031675e+00]\n",
      " [  5.39213307e+01   3.20645323e+01   5.53423530e+01  -6.95491701e+01\n",
      "   -4.22441890e+01  -3.92320640e+01  -3.64096933e+01  -4.81371343e+01\n",
      "    3.11916631e+00  -1.78603093e+01  -7.57804847e+00  -4.84092365e+00]\n",
      " [  5.11039293e+01   2.14605024e+01   5.70625782e+01  -9.64633405e+01\n",
      "   -3.62817773e+01  -4.37098986e+01  -2.76101425e+01  -4.68134083e+01\n",
      "    1.46983500e+01  -2.78064301e+01  -2.55404925e+00  -1.14178693e+01]\n",
      " [  2.84457240e+01   2.26601474e+01   4.09807272e+01  -9.84092475e+01\n",
      "   -3.56431123e+01  -4.32255229e+01  -3.72743052e+01  -4.19581088e+01\n",
      "    4.21075257e+00  -3.42359606e+01  -7.56299489e+00  -8.66419020e+00]\n",
      " [  3.54775131e+01   3.46995018e+01   6.20767916e+01  -1.00435728e+02\n",
      "   -2.31857664e+01  -4.44131238e+01  -3.05792767e+01  -4.11811919e+01\n",
      "    1.33420995e+01  -3.32627724e+01  -4.00481411e+00  -6.73952746e+00]\n",
      " [  2.91550359e+01   3.60331747e+01   5.78773109e+01  -1.01829728e+02\n",
      "   -2.18192947e+01  -4.86207779e+01  -4.10012387e+01  -4.69376375e+01\n",
      "    5.16979659e+00  -3.27384936e+01  -4.84780295e+00  -1.09242457e+00]\n",
      " [  4.70993348e+01   2.06413615e+01   7.78064834e+01  -1.07902963e+02\n",
      "   -2.37770950e+01  -5.03399759e+01  -3.70644047e+01  -5.74747590e+01\n",
      "    1.21956528e+01  -3.71401906e+01  -6.60478318e+00   2.57611353e-01]\n",
      " [  6.37113025e+01  -1.51905887e+01   7.17903622e+01  -9.00891585e+01\n",
      "   -5.53096413e+01  -5.39796029e+01  -3.40388698e+01  -7.78102141e+01\n",
      "   -4.04994113e+00  -2.34974361e+01  -2.54068818e+01  -3.86864956e+00]\n",
      " [  1.13782584e+02  -1.91940244e+01   4.49897146e+01  -3.90283284e+01\n",
      "   -4.63405060e+01  -6.97402943e+01  -2.71678417e+01  -4.66424713e+01\n",
      "   -1.71391028e+01  -2.18367956e+01  -1.53841424e+01   4.95628488e+00]\n",
      " [  1.44035232e+02  -2.43486977e+00   1.90576027e+01  -2.12453349e+01\n",
      "   -2.66262369e+01  -5.87014030e+01  -2.84110422e+01  -2.87732722e+01\n",
      "   -5.48812852e+00  -2.23083663e+01  -2.42479192e+01   1.00276881e+01]\n",
      " [  1.44046030e+02  -7.21964304e+00   9.54010748e-01  -5.19623468e+00\n",
      "   -2.18906892e+01  -5.31072871e+01  -2.98313981e+01  -2.33768981e+01\n",
      "   -8.40559520e+00  -5.06666242e+00  -3.02414789e+01  -8.21752268e+00]\n",
      " [  1.67871460e+02  -2.83732564e+01   2.82616136e+00  -1.29206600e+01\n",
      "   -1.87383466e+01  -5.73224256e+01  -2.56829572e+01  -3.54333642e+01\n",
      "   -6.66457692e+00  -4.55596529e+00  -2.76921039e+01  -7.14360906e+00]\n",
      " [  1.82462826e+02  -4.55114608e+01  -1.10781185e+01  -9.82362097e+00\n",
      "   -1.84182903e+01  -6.56943445e+01  -1.73684839e+01  -3.02613929e+01\n",
      "   -1.06763323e+01   3.76273382e+00  -2.51173904e+01  -4.55734287e+00]\n",
      " [  1.52275070e+02  -3.72174882e+01  -3.04684226e+01   1.68313445e-01\n",
      "   -2.68415897e+01  -6.89510147e+01  -1.95444028e+01  -1.43701664e+01\n",
      "   -1.45824709e+01  -2.69883047e+00  -1.72126056e+01  -1.55732945e+01]\n",
      " [  1.68811339e+02  -7.79280689e+01  -2.89161407e+01  -2.12446430e+01\n",
      "   -2.16303723e+01  -1.00939741e+02  -5.56487469e+00  -2.35004599e+01\n",
      "   -2.09906045e+01  -1.26354528e+01  -1.92313188e+01  -2.27972468e+01]\n",
      " [  1.70602563e+02  -8.80256410e+01  -2.70150896e+01  -2.63919757e+01\n",
      "   -2.02204017e+01  -9.10972650e+01   1.79214790e+00  -1.94401177e+01\n",
      "   -2.39413227e+01  -1.11783084e+01  -2.22300391e+01  -2.30167728e+01]\n",
      " [  1.55779455e+02  -8.96986887e+01  -3.47036894e+01  -3.05526125e+01\n",
      "   -3.04742211e+01  -7.54409238e+01  -5.76258288e+00  -2.82971006e+01\n",
      "   -3.05841706e+01  -1.15752688e+01  -3.77992017e+01  -2.56712695e+01]\n",
      " [  1.56563764e+02  -9.51023575e+01  -3.56194384e+01  -4.36613887e+01\n",
      "   -2.83897279e+01  -6.68594063e+01  -1.12956034e+01  -3.88540404e+01\n",
      "   -2.63756714e+01  -1.68077811e+01  -4.73927055e+01  -2.48689001e+01]\n",
      " [  1.52120856e+02  -8.89101568e+01  -3.40212863e+01  -5.19176647e+01\n",
      "   -1.93464118e+01  -5.55817566e+01  -1.40135984e+01  -3.87551133e+01\n",
      "   -1.82756978e+01  -1.36518869e+01  -4.66270195e+01  -1.95376853e+01]\n",
      " [  1.47144846e+02  -8.87368196e+01  -3.55618150e+01  -7.16619253e+01\n",
      "   -1.51514526e+01  -5.43293168e+01  -2.18330070e+01  -4.82376390e+01\n",
      "   -1.61270981e+01  -1.85551217e+01  -5.06929119e+01  -2.13226879e+01]\n",
      " [  1.49260506e+02  -7.20548713e+01  -3.05740737e+01  -7.93193374e+01\n",
      "   -4.31660423e-01  -4.50134897e+01  -2.60543107e+01  -4.73655167e+01\n",
      "   -7.30989414e+00  -1.68161931e+01  -4.23487302e+01  -1.80967675e+01]\n",
      " [  1.41301897e+02  -5.82865884e+01  -3.94907251e+01  -8.84676339e+01\n",
      "   -1.47580508e+00  -3.79670445e+01  -4.23782611e+01  -4.46255386e+01\n",
      "   -1.36518338e+01  -1.49721499e+01  -3.91733457e+01  -1.98597632e+01]\n",
      " [  1.54986589e+02  -4.83462727e+01  -3.07908535e+01  -1.04175499e+02\n",
      "    1.01653984e+01  -3.60262448e+01  -4.09409882e+01  -4.02107379e+01\n",
      "   -1.61007034e+01  -1.34604857e+01  -2.38311306e+01  -1.72390096e+01]\n",
      " [  1.37238437e+02  -5.68196088e+00  -4.22751090e+01  -8.40098542e+01\n",
      "   -3.36103641e+00  -1.40044817e+01  -3.54484179e+01  -2.37197149e+01\n",
      "   -2.36158618e+01  -3.55878109e+00  -1.39690738e+00  -1.19592616e+01]\n",
      " [  1.46049439e+02  -7.95369415e+00  -5.78191117e+01  -9.76628829e+01\n",
      "   -7.07055452e+00  -2.96280141e+01  -4.10386032e+01  -1.96807650e+01\n",
      "   -3.01792265e+01  -1.39008264e+01  -1.26756850e+01  -2.66458267e+01]\n",
      " [  2.02008414e+02   8.92723314e+00  -4.86815408e+01  -8.40506883e+01\n",
      "    3.94077366e+00  -1.35421145e+01  -2.72455353e+01  -4.20224257e+00\n",
      "   -4.21852285e+01  -1.63683470e+01  -5.22031894e+00  -1.19379514e+01]\n",
      " [  1.73636382e+02   1.72398434e+01  -5.80264595e+01  -5.72366319e+01\n",
      "    1.03589590e+01  -2.57571765e+01  -2.33404689e+01  -2.37974950e+01\n",
      "   -6.78558418e+01  -4.41310206e+01  -2.57029399e+01  -1.79176021e+01]\n",
      " [  1.56744432e+02   2.45671579e+01  -2.96468249e+01  -2.75686184e+01\n",
      "    7.63439090e+00  -7.00950845e+00  -2.54681299e+01  -3.67621801e+01\n",
      "   -5.45987542e+01  -3.84471606e+01  -2.66887739e+01  -1.30640106e+01]\n",
      " [  1.12399978e+02   2.93118808e+00  -3.22975631e+01   1.82629629e+00\n",
      "    2.82171232e+01  -5.36123438e+00  -1.46452196e+01  -2.63516972e+01\n",
      "   -2.54127175e+01  -1.78612970e+01  -1.36753272e+01   2.18843116e+01]\n",
      " [  8.54623608e+01  -1.04072089e+01  -1.83608878e+01   2.52332925e-01\n",
      "    2.02666619e+01  -3.74388426e+00  -2.23570158e+01  -3.24643231e+01\n",
      "   -3.25369092e+01  -1.21853862e+01  -8.75855110e+00   1.20566010e+01]\n",
      " [  8.74575556e+01  -1.38750685e+01  -3.48703181e+01   2.54428010e+00\n",
      "    1.82521831e+01  -2.11948503e+00  -9.71147445e+00  -2.20917956e+01\n",
      "   -2.74536755e+01  -1.28565971e+00   7.69415811e+00   1.40800962e+01]\n",
      " [  7.37570098e+01  -1.28060183e+01  -2.21747178e+01   2.03198921e+01\n",
      "    2.29725339e+01  -6.42084576e+00  -9.42176594e+00  -8.48281183e+00\n",
      "   -1.26182979e+01   3.46626239e+00   8.59533930e+00   1.03370600e+01]\n",
      " [  7.55433791e+01   1.38241888e+01  -8.28856114e+00   1.58492855e+01\n",
      "    1.65453653e+01   3.62387906e+00  -9.46564084e+00  -1.68517197e+01\n",
      "   -1.59240677e+01  -9.31352238e+00   9.12729505e+00   7.19356487e+00]\n",
      " [  8.05058168e+01   3.73596204e+01   9.35825204e+00   1.42582513e+01\n",
      "    1.26241504e+01   5.82839951e+00  -8.84217780e+00   2.50529309e+00\n",
      "   -8.42296618e+00  -8.28682013e+00   1.76500234e+00   1.27904677e+01]\n",
      " [  6.20557831e+01   4.47242919e+01   2.09465668e+00   1.49519587e+01\n",
      "    3.32671396e+01   1.64924250e+01   6.40514214e+00   1.56316222e+01\n",
      "   -6.38226400e+00  -1.04038884e+01   1.19689572e+00   8.40355309e+00]\n",
      " [  8.41999567e+01   8.35905985e+01   4.84123789e+01   3.17460160e+01\n",
      "    9.68316039e+00   8.37395642e+00  -1.28876780e+01  -1.07237730e+01\n",
      "    9.35423591e-02  -3.66020363e+00   5.75487256e-01   1.25974228e+01]\n",
      " [  6.62901334e+01   5.56797828e+01   4.07444257e+01   1.30517474e+01\n",
      "    6.14765833e+00  -7.34941775e+00  -2.16994255e+01  -1.64884387e+01\n",
      "    4.67524764e+00   3.09343608e+00  -6.69625128e+00   5.49774699e+00]\n",
      " [  6.62985507e+01   5.77283615e+01   3.26264124e+01   3.24379881e+01\n",
      "    6.92558271e+00  -6.08918057e+00  -1.98104361e+01  -1.11870909e+01\n",
      "   -4.64092916e-01   2.38146110e-02  -1.04435570e+01   8.20137650e+00]\n",
      " [  6.65412297e+01   6.18468279e+01   2.99903201e+01   1.92659310e+01\n",
      "   -3.53876705e+00   5.64960278e-01  -1.16363263e+01  -1.30628237e+01\n",
      "    3.24123381e+00   1.41383347e+00  -5.06601358e+00  -1.58522468e+00]\n",
      " [  4.75577539e+01   6.34025299e+01   2.59265940e+01   2.80911078e+00\n",
      "    3.99062339e+00   1.39266894e+00  -8.20767392e+00  -1.10645374e+01\n",
      "   -8.53455727e+00  -7.05401646e-01   8.19784731e-01  -7.60934128e+00]\n",
      " [  5.68124217e+01   5.54727269e+01   2.77041149e+01   1.47458951e+01\n",
      "   -6.53746811e+00  -3.21260343e+00  -8.22336398e+00  -7.23532698e-01\n",
      "    1.18433256e+01   4.64167522e+00  -5.70300313e+00  -1.21271803e+01]\n",
      " [  4.83560457e+01   5.97219506e+01   3.56330892e+01   1.59785478e+01\n",
      "   -9.73898614e-01  -8.29666375e+00  -1.09036057e+01  -1.90397213e+00\n",
      "   -8.88745089e+00  -1.10900775e+01  -1.66252774e+01  -1.80735753e+00]\n",
      " [  2.69416163e+01   4.58706410e+01   1.61278121e+01   1.34956555e+01\n",
      "    2.01076517e+01   1.18922395e+01  -9.10166137e+00   2.93868262e+00\n",
      "   -3.53747360e+00   1.03556423e+01   1.11003175e+01   7.46574967e+00]\n",
      " [  5.87927226e+01   7.18333634e+01   3.60380586e+01   1.07491577e+01\n",
      "    9.94597396e+00   7.30174089e+00   2.52407257e+00  -3.30082202e+00\n",
      "   -1.54963365e+01  -9.70657123e+00  -3.36363700e+00  -1.56757885e+00]\n",
      " [  2.52720119e+01   4.82974274e+01   2.42325575e+01   1.70184817e+01\n",
      "    1.04438171e+01  -5.11707693e+00   1.11195212e+00  -4.77382413e+00\n",
      "   -3.65001142e+00  -8.31928522e+00  -1.17883506e+01  -5.28455818e+00]\n",
      " [  2.46062300e+01   4.45518013e+01   1.84128485e+01   1.45577865e+01\n",
      "    1.05579807e+01   2.05730103e+00  -8.13343946e+00  -1.03707245e+01\n",
      "   -6.55897431e+00  -5.17318992e+00  -1.31347241e+01  -6.06372141e+00]\n",
      " [  5.16238370e+01   5.78413516e+01   2.95398115e+01   1.02256719e+01\n",
      "    9.21518466e+00   5.77659355e+00  -1.25805811e+01  -2.36137803e+01\n",
      "   -2.10095742e+01  -4.35680290e+00  -4.71133404e+00  -1.43713577e+01]\n",
      " [  5.35080089e+01   6.08697398e+01   3.06868765e+01   1.49853027e+01\n",
      "    9.70317472e+00   6.54454504e+00  -7.11478456e+00  -6.93317022e+00\n",
      "   -1.14030146e+01   8.25842456e-01  -1.03796167e+00   6.19493225e+00]]\n"
     ]
    }
   ],
   "source": [
    "file = \"train/s1.wav\"\n",
    "coeffs = mfcc(file)\n",
    "print(coeffs.shape)\n",
    "print(coeffs)"
   ]
  },
  {
   "cell_type": "code",
   "execution_count": 55,
   "metadata": {
    "collapsed": true
   },
   "outputs": [],
   "source": [
    "from scipy.cluster.vq import vq, kmeans\n"
   ]
  },
  {
   "cell_type": "code",
   "execution_count": 68,
   "metadata": {
    "collapsed": false
   },
   "outputs": [],
   "source": [
    "def train(k = 16, iter = 100):\n",
    "    codebooks = {}\n",
    "    for i in range(1,9):\n",
    "        file = \"train/s\" + str(i) + \".wav\"\n",
    "        obs = mfcc(file)\n",
    "        codebook = kmeans(obs, k, iter, thresh=1e-8)\n",
    "        codebooks[i] = codebook[0]\n",
    "    return codebooks\n"
   ]
  },
  {
   "cell_type": "code",
   "execution_count": 86,
   "metadata": {
    "collapsed": true
   },
   "outputs": [],
   "source": [
    "def test(file, codebooks):\n",
    "    min_dist = float('inf')\n",
    "    best_match = 0\n",
    "    for i in range(1, 9):\n",
    "        obs = mfcc(file)\n",
    "        codebook = codebooks[i]\n",
    "        code, dist = vq(obs, codebook)\n",
    "        avg_dist = np.average(dist)\n",
    "        print(avg_dist)\n",
    "        if avg_dist < min_dist:\n",
    "            min_dist = avg_dist\n",
    "            best_match = i\n",
    "    return best_match\n",
    "        \n",
    "    "
   ]
  },
  {
   "cell_type": "code",
   "execution_count": 89,
   "metadata": {
    "collapsed": false
   },
   "outputs": [
    {
     "name": "stdout",
     "output_type": "stream",
     "text": [
      "60.4000147873\n",
      "62.0610037081\n",
      "55.7728105419\n",
      "65.5778893368\n",
      "59.9353051884\n",
      "56.6747238516\n",
      "58.9904109102\n",
      "57.1311615227\n"
     ]
    },
    {
     "data": {
      "text/plain": [
       "3"
      ]
     },
     "execution_count": 89,
     "metadata": {},
     "output_type": "execute_result"
    }
   ],
   "source": [
    "codebooks = train()\n",
    "#print(codebooks[1])\n",
    "test(\"test/s3.wav\", codebooks)"
   ]
  },
  {
   "cell_type": "code",
   "execution_count": 61,
   "metadata": {
    "collapsed": false
   },
   "outputs": [
    {
     "ename": "AttributeError",
     "evalue": "module 'numpy' has no attribute 'avg'",
     "output_type": "error",
     "traceback": [
      "\u001b[0;31m---------------------------------------------------------------------------\u001b[0m",
      "\u001b[0;31mAttributeError\u001b[0m                            Traceback (most recent call last)",
      "\u001b[0;32m<ipython-input-61-bdb76471d871>\u001b[0m in \u001b[0;36m<module>\u001b[0;34m()\u001b[0m\n\u001b[1;32m      3\u001b[0m \u001b[0;31m#print(framed_matrix.shape)\u001b[0m\u001b[0;34m\u001b[0m\u001b[0;34m\u001b[0m\u001b[0m\n\u001b[1;32m      4\u001b[0m \u001b[0;31m#print(mfcc.shape)\u001b[0m\u001b[0;34m\u001b[0m\u001b[0;34m\u001b[0m\u001b[0m\n\u001b[0;32m----> 5\u001b[0;31m \u001b[0mprint\u001b[0m\u001b[0;34m(\u001b[0m\u001b[0mnp\u001b[0m\u001b[0;34m.\u001b[0m\u001b[0mavg\u001b[0m\u001b[0;34m(\u001b[0m\u001b[0;34m[\u001b[0m\u001b[0;36m1\u001b[0m\u001b[0;34m,\u001b[0m\u001b[0;36m3\u001b[0m\u001b[0;34m,\u001b[0m\u001b[0;36m4\u001b[0m\u001b[0;34m]\u001b[0m\u001b[0;34m)\u001b[0m\u001b[0;34m)\u001b[0m\u001b[0;34m\u001b[0m\u001b[0m\n\u001b[0m",
      "\u001b[0;31mAttributeError\u001b[0m: module 'numpy' has no attribute 'avg'"
     ]
    }
   ],
   "source": [
    "#print(numFilters)\n",
    "#print(melfb.T.shape)\n",
    "#print(framed_matrix.shape)\n",
    "#print(mfcc.shape)\n",
    "print(np.avg([1,3,4]))"
   ]
  },
  {
   "cell_type": "code",
   "execution_count": null,
   "metadata": {
    "collapsed": true
   },
   "outputs": [],
   "source": [
    "#FINISHED WITH SIGNAL PROCESSING"
   ]
  },
  {
   "cell_type": "code",
   "execution_count": 70,
   "metadata": {
    "collapsed": true
   },
   "outputs": [],
   "source": [
    "def mfcc(file, fs):\n",
    "    #file_data = wav.read(file)\n",
    "    sampleRate, signal = wavfile.read(file)\n",
    "    numCoefficients = 13 # choose the sive of mfcc array\n",
    "    minHz = 0\n",
    "    maxHz = 22.000\n",
    "    complexSpectrum = np.fft.fft(signal)\n",
    "    powerSpectrum = abs(complexSpectrum) ** 2\n",
    "    filteredSpectrum = np.dot(powerSpectrum, melFilterBank(20))\n",
    "    #locked_segments = block(file_data, num_blocks, overlap, )\n",
    "    #windowed_segments = hamming_window(blocked_segments)\n",
    "    #spectrum = fft_map(windowed_segments)\n",
    "    #mel_spectrum = generate_mel_spectrum(spectrum)\n",
    "    \n",
    "    \n",
    "    return sampleRate, signal"
   ]
  },
  {
   "cell_type": "code",
   "execution_count": 40,
   "metadata": {
    "collapsed": false
   },
   "outputs": [
    {
     "data": {
      "image/png": "[encoded data removed]",
      "text/plain": [
       "<matplotlib.figure.Figure at 0x7f2ba03531d0>"
      ]
     },
     "metadata": {},
     "output_type": "display_data"
    },
    {
     "name": "stderr",
     "output_type": "stream",
     "text": [
      "/usr/lib/python3/dist-packages/numpy/core/numeric.py:482: ComplexWarning: Casting complex values to real discards the imaginary part\n",
      "  return array(a, dtype, copy=False, order=order)\n"
     ]
    },
    {
     "data": {
      "image/png": "[encoded data removed]",
      "text/plain": [
       "<matplotlib.figure.Figure at 0x7f2b618c09e8>"
      ]
     },
     "metadata": {},
     "output_type": "display_data"
    },
    {
     "name": "stdout",
     "output_type": "stream",
     "text": [
      "POWER SPECTRUM\n",
      "[  1.14314587e+10   4.36662921e+06   4.40761094e+07 ...,   1.99008373e+07\n",
      "   4.40761094e+07   4.36662921e+06]\n"
     ]
    },
    {
     "data": {
      "image/png": "[encoded data removed]",
      "text/plain": [
       "<matplotlib.figure.Figure at 0x7f2b61a57e80>"
      ]
     },
     "metadata": {},
     "output_type": "display_data"
    },
    {
     "name": "stdout",
     "output_type": "stream",
     "text": [
      "FILTER MATRIXXX\n",
      "[[ 0.  0.  0. ...,  0.  0.  0.]\n",
      " [ 0.  0.  0. ...,  0.  0.  0.]\n",
      " [ 0.  0.  0. ...,  0.  0.  0.]\n",
      " ..., \n",
      " [ 0.  0.  0. ...,  0.  0.  0.]\n",
      " [ 0.  0.  0. ...,  0.  0.  0.]\n",
      " [ 0.  0.  0. ...,  0.  0.  0.]]\n",
      "(13, 13056)\n",
      "MELLL RANGEE\n",
      "[ 0  1  2  3  4  5  6  7  8  9 10 11 12 13 14]\n",
      "MELLL CENTER FILTERS\n",
      "[    0.    191.5   383.    574.5   766.    957.5  1149.   1340.5  1532.\n",
      "  1723.5  1915.   2106.5  2298.   2489.5  2681. ]\n",
      "AUXXUXUXUXUX\n",
      "[    0.    77.   168.   276.   403.   555.   734.   947.  1199.  1498.\n",
      "  1852.  2272.  2770.  3360.  4059.]\n"
     ]
    },
    {
     "data": {
      "image/png": "[encoded data removed]",
      "text/plain": [
       "<matplotlib.figure.Figure at 0x7f2b616926d8>"
      ]
     },
     "metadata": {},
     "output_type": "display_data"
    },
    {
     "name": "stdout",
     "output_type": "stream",
     "text": [
      "CENTTER INDEX\n",
      "[   0   77  168  276  403  555  734  947 1199 1498 1852 2272 2770 3360 4059]\n",
      "LLOOL\n",
      "[['0.00' '0.00' '0.00' ..., '0.00' '0.00' '0.00']\n",
      " ['0.01' '0.00' '0.00' ..., '0.00' '0.00' '0.00']\n",
      " ['0.03' '0.00' '0.00' ..., '0.00' '0.00' '0.00']\n",
      " ..., \n",
      " ['0.00' '0.00' '0.00' ..., '0.00' '0.00' '0.00']\n",
      " ['0.00' '0.00' '0.00' ..., '0.00' '0.00' '0.00']\n",
      " ['0.00' '0.00' '0.00' ..., '0.00' '0.00' '0.00']]\n",
      "(13056, 13)\n",
      "FILTER BANK SHAPE\n",
      "(13056, 13)\n",
      "POWER SPECTRUM SHAPE\n",
      "(13056,)\n",
      "FILTERED SPECTRUM\n",
      "[  3.31832514e+12   1.89978504e+14   1.70147845e+14   2.41594986e+14\n",
      "   1.14776983e+14   3.48348791e+13   1.63801657e+13   1.41733430e+13\n",
      "   7.18556839e+12   2.52390384e+12   5.67566898e+12   1.38785055e+13\n",
      "   5.56447503e+12]\n",
      "LOG SPECTRUM\n",
      "[ 28.83048129  32.87793204  32.76768885  33.11828383  32.37401208\n",
      "  31.18164027  30.42709231  30.28238406  29.60309574  28.55682796\n",
      "  29.36720955  30.26136239  29.34742376]\n",
      "DCT SPECTRUM\n",
      "[  7.97990868e+02   1.85192424e+01  -3.42153258e+00  -1.43643840e+01\n",
      "  -7.80350896e+00  -7.73769011e+00  -6.25488052e+00  -8.20260111e-02\n",
      "  -7.82902616e+00  -2.68388555e+00  -3.74821827e+00  -2.68999830e+00\n",
      "  -1.23533037e+00]\n"
     ]
    }
   ],
   "source": [
    "file = \"train/s1.wav\"\n",
    "sampleRate, signal = wav.read(file)\n",
    "numCoefficients = 13 # choose the sive of mfcc array\n",
    "minHz = 0\n",
    "maxHz = 6855.4976\n",
    "plt.plot(signal)\n",
    "plt.show()\n",
    "\n",
    "complexSpectrum = numpy.fft.fft(signal)\n",
    "plt.plot(complexSpectrum)\n",
    "plt.show()\n",
    "\n",
    "powerSpectrum = abs(complexSpectrum) ** 2\n",
    "print(\"POWER SPECTRUM\")\n",
    "print(powerSpectrum)\n",
    "plt.plot(powerSpectrum)\n",
    "plt.show()\n",
    "\n",
    "a = melFilterBank(len(powerSpectrum))\n",
    "print(a.shape)\n",
    "                  \n",
    "filteredSpectrum = numpy.dot(powerSpectrum, a)\n",
    "print(\"FILTER BANK SHAPE\")\n",
    "print(a.shape)\n",
    "print(\"POWER SPECTRUM SHAPE\")\n",
    "print(powerSpectrum.shape)\n",
    "\n",
    "print(\"FILTERED SPECTRUM\")\n",
    "print(filteredSpectrum)\n",
    "\n",
    "logSpectrum = numpy.log(filteredSpectrum)\n",
    "print(\"LOG SPECTRUM\")\n",
    "print(logSpectrum)\n",
    "\n",
    "dctSpectrum = dct(logSpectrum, type=2)\n",
    "print(\"DCT SPECTRUM\")\n",
    "print(dctSpectrum)"
   ]
  },
  {
   "cell_type": "code",
   "execution_count": 38,
   "metadata": {
    "collapsed": true
   },
   "outputs": [],
   "source": [
    "def melFilterBank(blockSize):\n",
    "    numBands = int(numCoefficients)\n",
    "    maxMel = int(freqToMel(maxHz))\n",
    "    minMel = int(freqToMel(minHz))\n",
    "\n",
    "    # Create a matrix for triangular filters, one row per filter\n",
    "    filterMatrix = numpy.zeros((numBands, blockSize))\n",
    "    print(\"FILTER MATRIXXX\")\n",
    "    print(filterMatrix)\n",
    "    print(filterMatrix.shape)\n",
    "\n",
    "    \n",
    "    melRange = numpy.array(range(numBands + 2))\n",
    "    print(\"MELLL RANGEE\")\n",
    "    print(melRange)\n",
    "\n",
    "    melCenterFilters = melRange * (maxMel - minMel) / (numBands + 1) + minMel\n",
    "    print(\"MELLL CENTER FILTERS\")\n",
    "    print(melCenterFilters)\n",
    "    \n",
    "\n",
    "    # each array index represent the center of each triangular filter\n",
    "    aux = numpy.log(1 + 1000.0 / 700.0) / 1000.0\n",
    "    aux = (numpy.exp(melCenterFilters * aux) - 1) / 22050\n",
    "    aux = 0.5 + 700 * blockSize * aux\n",
    "    aux = numpy.floor(aux)  # Arredonda pra baixo\n",
    "    print(\"AUXXUXUXUXUX\")\n",
    "    print(aux)\n",
    "    plt.plot(aux)\n",
    "    plt.show()\n",
    "    \n",
    "    centerIndex = numpy.array(aux, int)  # Get int values\n",
    "    print(\"CENTTER INDEX\")\n",
    "    print(centerIndex)\n",
    "        \n",
    "\n",
    "    for i in range(numBands):\n",
    "        start, centre, end = centerIndex[i:i + 3]\n",
    "        k1 = numpy.float32(centre - start)\n",
    "        k2 = numpy.float32(end - centre)\n",
    "        up = (numpy.array(range(start, centre)) - start) / k1\n",
    "        down = (end - numpy.array(range(centre, end))) / k2\n",
    "\n",
    "        filterMatrix[i][start:centre] = up\n",
    "        filterMatrix[i][centre:end] = down\n",
    "    print(\"LLOOL\")\n",
    "    print(numpy.vectorize(\"%.2f\".__mod__)(filterMatrix.transpose()))\n",
    "    return filterMatrix.transpose()\n",
    "\n",
    "def freqToMel(freq):\n",
    "    return 1127.01048 * math.log(1 + freq / 700.0)\n",
    "\n",
    "def melToFreq(mel):\n",
    "    return 700 * (math.exp(freq / 1127.01048 ) - 1)"
   ]
  },
  {
   "cell_type": "code",
   "execution_count": 31,
   "metadata": {
    "collapsed": false
   },
   "outputs": [
    {
     "ename": "NameError",
     "evalue": "name 'melFilterBank' is not defined",
     "output_type": "error",
     "traceback": [
      "\u001b[0;31m---------------------------------------------------------------------------\u001b[0m",
      "\u001b[0;31mNameError\u001b[0m                                 Traceback (most recent call last)",
      "\u001b[0;32m<ipython-input-31-02ea6faaf7a5>\u001b[0m in \u001b[0;36m<module>\u001b[0;34m()\u001b[0m\n\u001b[0;32m----> 1\u001b[0;31m \u001b[0mmfcc\u001b[0m\u001b[0;34m(\u001b[0m\u001b[0;34m\"train/s1.wav\"\u001b[0m\u001b[0;34m,\u001b[0m \u001b[0;36m10\u001b[0m\u001b[0;34m)\u001b[0m\u001b[0;34m\u001b[0m\u001b[0m\n\u001b[0m",
      "\u001b[0;32m<ipython-input-30-2e4a8ec5b059>\u001b[0m in \u001b[0;36mmfcc\u001b[0;34m(file, fs)\u001b[0m\n\u001b[1;32m      7\u001b[0m     \u001b[0mcomplexSpectrum\u001b[0m \u001b[0;34m=\u001b[0m \u001b[0mnp\u001b[0m\u001b[0;34m.\u001b[0m\u001b[0mfft\u001b[0m\u001b[0;34m.\u001b[0m\u001b[0mfft\u001b[0m\u001b[0;34m(\u001b[0m\u001b[0msignal\u001b[0m\u001b[0;34m)\u001b[0m\u001b[0;34m\u001b[0m\u001b[0m\n\u001b[1;32m      8\u001b[0m     \u001b[0mpowerSpectrum\u001b[0m \u001b[0;34m=\u001b[0m \u001b[0mabs\u001b[0m\u001b[0;34m(\u001b[0m\u001b[0mcomplexSpectrum\u001b[0m\u001b[0;34m)\u001b[0m \u001b[0;34m**\u001b[0m \u001b[0;36m2\u001b[0m\u001b[0;34m\u001b[0m\u001b[0m\n\u001b[0;32m----> 9\u001b[0;31m     \u001b[0mfilteredSpectrum\u001b[0m \u001b[0;34m=\u001b[0m \u001b[0mnp\u001b[0m\u001b[0;34m.\u001b[0m\u001b[0mdot\u001b[0m\u001b[0;34m(\u001b[0m\u001b[0mpowerSpectrum\u001b[0m\u001b[0;34m,\u001b[0m \u001b[0mmelFilterBank\u001b[0m\u001b[0;34m(\u001b[0m\u001b[0;34m)\u001b[0m\u001b[0;34m)\u001b[0m\u001b[0;34m\u001b[0m\u001b[0m\n\u001b[0m\u001b[1;32m     10\u001b[0m     \u001b[0;31m#locked_segments = block(file_data, num_blocks, overlap, )\u001b[0m\u001b[0;34m\u001b[0m\u001b[0;34m\u001b[0m\u001b[0m\n\u001b[1;32m     11\u001b[0m     \u001b[0;31m#windowed_segments = hamming_window(blocked_segments)\u001b[0m\u001b[0;34m\u001b[0m\u001b[0;34m\u001b[0m\u001b[0m\n",
      "\u001b[0;31mNameError\u001b[0m: name 'melFilterBank' is not defined"
     ]
    }
   ],
   "source": [
    "mfcc(\"train/s1.wav\", 10)"
   ]
  },
  {
   "cell_type": "code",
   "execution_count": null,
   "metadata": {
    "collapsed": true
   },
   "outputs": [],
   "source": []
  }
 ],
 "metadata": {
  "kernelspec": {
   "display_name": "Python 3",
   "language": "python",
   "name": "python3"
  },
  "language_info": {
   "codemirror_mode": {
    "name": "ipython",
    "version": 3
   },
   "file_extension": ".py",
   "mimetype": "text/x-python",
   "name": "python",
   "nbconvert_exporter": "python",
   "pygments_lexer": "ipython3",
   "version": "3.5.2"
  }
 },
 "nbformat": 4,
 "nbformat_minor": 1
}
